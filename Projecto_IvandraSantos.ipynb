{
 "cells": [
  {
   "cell_type": "markdown",
   "metadata": {},
   "source": [
    "<!DOCTYPE html>\n",
    "<html lang=\"pt\">\n",
    "<head>\n",
    "    <meta charset=\"UTF-8\">\n",
    "    <title>Projecto TITANIC</title>\n",
    "    <style>\n",
    "        h1 {\n",
    "            color: #3399FF;\n",
    "            text-align: center;\n",
    "        }\n",
    "        ul {\n",
    "            list-style-type: none;\n",
    "        }\n",
    "        ul li {\n",
    "            color: lightblue;\n",
    "        }\n",
    "        ul ul li {\n",
    "            color: goldenrod;\n",
    "        }\n",
    "        .logo {\n",
    "            float: right;\n",
    "            width: 115px;\n",
    "        }\n",
    "        .header {\n",
    "            text-align: center;\n",
    "        }\n",
    "    </style>\n",
    "</head>\n",
    "<body>\n",
    "    <div class=\"header\">\n",
    "        <img src=\"https://img.icons8.com/officel/80/titanic.png\" class=\"logo\" alt=\"Navio\">\n",
    "        <h1>Projecto TITANIC</h1>\n",
    "    </div>\n",
    "    <ul>\n",
    "        <li>OBJECTIVO:\n",
    "            <ul>\n",
    "                <li>Analisar e interpretar quais os tipos de pessoas mais propensas a sobreviver ao desastre do Titanic aplicando ferramentas e estratégias de previsão de quais os passageiros que sobreviveram.</li>\n",
    "            </ul>\n",
    "        </li>\n",
    "        <li>ROADMAP:\n",
    "            <ul>\n",
    "                <li>Este plano de trabalho detalhado e estruturado envolverá várias etapas, desde análise exploratória dos dados até à sua modelagem preditiva.</li>\n",
    "            </ul>\n",
    "        </li>\n",
    "        <li>VARIÁVEL TARGET:\n",
    "            <ul>\n",
    "                <li>SURVIVED</li>\n",
    "            </ul>\n",
    "        </li>\n",
    "    </ul>\n",
    "</body>\n",
    "</html>\n"
   ]
  },
  {
   "cell_type": "markdown",
   "metadata": {},
   "source": [
    "# Tarefas do Projeto"
   ]
  },
  {
   "cell_type": "markdown",
   "metadata": {},
   "source": [
    "Importação das bibliotecas"
   ]
  },
  {
   "cell_type": "code",
   "execution_count": null,
   "metadata": {},
   "outputs": [],
   "source": [
    "import pandas as pd\n",
    "import numpy as np\n",
    "np.set_printoptions(precision=2)\n",
    "import ssl\n",
    "import certifi\n",
    "import urllib.request"
   ]
  },
  {
   "cell_type": "markdown",
   "metadata": {},
   "source": [
    "## 1. Integração e Análise Inicial"
   ]
  },
  {
   "cell_type": "markdown",
   "metadata": {},
   "source": [
    "\n",
    "### 1.1. Importar o dataset para o ambiente Python e apresentar as primeiras 10 linhas."
   ]
  },
  {
   "cell_type": "code",
   "execution_count": null,
   "metadata": {},
   "outputs": [],
   "source": [
    "dataset_url = 'https://raw.githubusercontent.com/datasciencedojo/datasets/master/titanic.csv'\n",
    "\n",
    "ssl_context = ssl.create_default_context(cafile=certifi.where())\n",
    "\n",
    "with urllib.request.urlopen(dataset_url, context=ssl_context) as response:\n",
    "    data = pd.read_csv(response)\n",
    "    \n",
    "data.head(10)"
   ]
  },
  {
   "cell_type": "markdown",
   "metadata": {},
   "source": [
    "### 1.2. Apresente um resumo estatístico e uma visão geral do dataset:"
   ]
  },
  {
   "cell_type": "code",
   "execution_count": null,
   "metadata": {},
   "outputs": [],
   "source": [
    "# Número de linhas e colunas\n",
    "print(\"Número de linhas e colunas:\", data.shape)\n",
    "\n",
    "# Número de valores ausentes por variável\n",
    "print(\"\\nValores ausentes por variável:\")\n",
    "print(data.isnull().sum())\n",
    "\n",
    "# Estatísticas descritivas das variáveis numéricas\n",
    "print(\"\\nEstatísticas descritivas das variáveis numéricas:\")\n",
    "print(data.describe())"
   ]
  },
  {
   "cell_type": "markdown",
   "metadata": {},
   "source": [
    "## 2. Limpeza e Transformação de Dados"
   ]
  },
  {
   "cell_type": "markdown",
   "metadata": {},
   "source": [
    "### 2.1. Trate os valores ausentes:"
   ]
  },
  {
   "cell_type": "code",
   "execution_count": null,
   "metadata": {},
   "outputs": [],
   "source": [
    "# Substitua valores ausentes na variável Age pela mediana. \n",
    "data.loc[data['Age'].isnull(), 'Age'] = data['Age'].median()\n",
    "\n",
    "# Remova registos com valores ausentes em Embarked. \n",
    "data.drop(data[data['Embarked'].isnull()].index, inplace=True)\n",
    "\n",
    "# Substitua valores ausentes em Cabin por \"Unknown\". \n",
    "data.loc[data['Cabin'].isnull(), 'Cabin'] = 'Unknown'\n",
    "\n",
    "# Dados após o tratamento\n",
    "print(f'\\nDados após o tratamento:\\n{data}')"
   ]
  },
  {
   "cell_type": "markdown",
   "metadata": {},
   "source": [
    "### 2.2. Codifique as variáveis categóricas: "
   ]
  },
  {
   "cell_type": "code",
   "execution_count": null,
   "metadata": {},
   "outputs": [],
   "source": [
    "from sklearn.preprocessing import OneHotEncoder\n",
    "\n",
    "# Transforme Sex em valores numéricos (0 para male, 1 para female).\n",
    "data['Sex'] = data['Sex'].map({'male': 0, 'female': 1})\n",
    "\n",
    "# Codifique Embarked em variáveis binárias utilizando One-Hot Encoding. \n",
    "enc = OneHotEncoder(handle_unknown='ignore', sparse_output=False).set_output(transform='pandas')\n",
    "\n",
    "result = enc.fit_transform(data[['Embarked']])\n",
    "print(result)\n"
   ]
  },
  {
   "cell_type": "markdown",
   "metadata": {},
   "source": [
    "### 2.3. Crie novas variáveis:"
   ]
  },
  {
   "cell_type": "code",
   "execution_count": null,
   "metadata": {},
   "outputs": [],
   "source": [
    "# FamilySize: Soma de SibSp e Parch.\n",
    "data['FamilySize'] = data['SibSp'] + data['Parch']\n",
    "\n",
    "# IsAlone: Variável binária (1 se o passageiro estava sozinho, 0 caso contrário).\n",
    "data['IsAlone'] = np.where(data['FamilySize'] == 0, 1, 0)\n",
    "\n",
    "data"
   ]
  },
  {
   "cell_type": "markdown",
   "metadata": {},
   "source": [
    "## 3. Análise Exploratória e Visualizações"
   ]
  },
  {
   "cell_type": "markdown",
   "metadata": {},
   "source": [
    "### 3.1. Visualize a distribuição de variáveis como Age, Fare e FamilySize. \n",
    "    -   Use histogramas para representar a distribuição."
   ]
  },
  {
   "cell_type": "code",
   "execution_count": null,
   "metadata": {},
   "outputs": [],
   "source": [
    "data['IsAlone'].value_counts()"
   ]
  },
  {
   "cell_type": "code",
   "execution_count": null,
   "metadata": {},
   "outputs": [],
   "source": [
    "data['Survived'].value_counts()"
   ]
  },
  {
   "cell_type": "code",
   "execution_count": null,
   "metadata": {},
   "outputs": [],
   "source": [
    "import matplotlib.pyplot as plt\n",
    "import seaborn as sns\n",
    "\n",
    "# Histograma para a variável Age\n",
    "sns.histplot(data['Age'])\n",
    "plt.title(\"Distribuição de Age\")\n",
    "plt.figure(figsize=(8, 6))\n",
    "plt.show()"
   ]
  },
  {
   "cell_type": "code",
   "execution_count": null,
   "metadata": {},
   "outputs": [],
   "source": [
    "\n",
    "# Histograma para a variável Fare\n",
    "sns.histplot(data['Fare'])\n",
    "plt.title(\"Distribuição de Fare\")\n",
    "plt.figure(figsize=(8, 6))\n",
    "plt.show()"
   ]
  },
  {
   "cell_type": "code",
   "execution_count": null,
   "metadata": {},
   "outputs": [],
   "source": [
    "\n",
    "# Histograma para a variável FamilySize\n",
    "sns.histplot(data['FamilySize'])\n",
    "plt.title(\"Distribuição de FamilySize\")\n",
    "plt.figure(figsize=(8,6))\n",
    "plt.show()"
   ]
  },
  {
   "cell_type": "markdown",
   "metadata": {},
   "source": [
    "### 3.2. Analise a relação entre variáveis e a sobrevivência (Survived): "
   ]
  },
  {
   "cell_type": "code",
   "execution_count": null,
   "metadata": {},
   "outputs": [],
   "source": [
    "# Taxa de sobrevivência por Sex (gráfico de barras)\n",
    "ax = sns.barplot(data, x='Sex', y='Survived', hue='Sex')\n",
    "plt.bar_label\n",
    "for i in ax.containers:\n",
    "    ax.bar_label(i, padding=-50, fmt='%.2f', color='white', fontweight='bold')\n",
    "\n",
    "plt.title('Taxa de sobrevivência por Sex')\n",
    "plt.xlabel('Sex (0 = male, 1 = female)')\n",
    "plt.figure(figsize=(12, 5))\n",
    "plt.show()\n"
   ]
  },
  {
   "cell_type": "code",
   "execution_count": null,
   "metadata": {},
   "outputs": [],
   "source": [
    "# Taxa de sobrevivência por Pclass (gráfico de barras)\n",
    "ax = sns.barplot(data, x='Pclass', y='Survived', hue='Pclass')\n",
    "for i in ax.containers:\n",
    "    ax.bar_label(i, padding=-50, fmt='%.2f', color='white', fontweight='bold')\n",
    "\n",
    "plt.title('Taxa de sobrevivência por Pclass')\n",
    "plt.figure(figsize=(12, 5))\n",
    "plt.show()\n"
   ]
  },
  {
   "cell_type": "code",
   "execution_count": null,
   "metadata": {},
   "outputs": [],
   "source": [
    "\n",
    "# Distribuição de idades por sobrevivência (histograma com múltiplas cores)\n",
    "plt.figure(figsize=(8, 6))\n",
    "sns.histplot(data, x='Age', hue='Survived', multiple='stack')\n",
    "plt.title('Distribuição de idades por sobrevivência')\n",
    "plt.xlabel('Survived (0 = Not Survived, 1 = Survived)')\n",
    "plt.show()"
   ]
  },
  {
   "cell_type": "markdown",
   "metadata": {},
   "source": [
    "### 3.3. Crie um heatmap para explorar as correlações entre variáveis numéricas. "
   ]
  },
  {
   "cell_type": "code",
   "execution_count": null,
   "metadata": {},
   "outputs": [],
   "source": [
    "data1 = data[['Survived', 'Pclass', 'Sex', 'Age', 'IsAlone']]\n",
    "print(data1)\n",
    "corr = data1.corr()\n",
    "print(corr)\n",
    "sns.heatmap(corr, annot=True, fmt=\".2f\", cmap=\"RdBu\", square=True, vmax=1, vmin=-1)\n",
    "plt.show()\n"
   ]
  },
  {
   "cell_type": "markdown",
   "metadata": {},
   "source": [
    "## 4. Modelação e Comparação de Modelos"
   ]
  },
  {
   "cell_type": "markdown",
   "metadata": {},
   "source": [
    "### 4.1. Divida os dados em conjuntos de treino e teste. "
   ]
  },
  {
   "cell_type": "code",
   "execution_count": null,
   "metadata": {},
   "outputs": [],
   "source": [
    "from sklearn.model_selection import train_test_split\n",
    "\n",
    "# Selecionar as features e a variável alvo.\n",
    "# Supondo que as colunas 'PassengerId', 'Name', 'Ticket' e 'Cabin' não sejam úteis para a modelagem, elas são removidas do conjunto de features.\n",
    "features_to_drop = ['PassengerId', 'Name', 'Ticket', 'Cabin', 'Embarked']\n",
    "X = data.drop(['Survived'] + features_to_drop, axis=1)\n",
    "y = data['Survived']\n",
    "\n",
    "# Divisão dos dados: 80% treino e 20% teste\n",
    "X_train, X_test, y_train, y_test = train_test_split(X, y, test_size=0.2, random_state=42)\n",
    "\n",
    "print('Dimensão do conjunto de treino: ', {X_train.shape})\n",
    "print('Dimensão do conjunto de teste: ', {X_test.shape})\n"
   ]
  },
  {
   "cell_type": "markdown",
   "metadata": {},
   "source": [
    "### 4.2. Implemente os seguintes modelos preditivos para prever a variável Survived:"
   ]
  },
  {
   "cell_type": "code",
   "execution_count": null,
   "metadata": {},
   "outputs": [],
   "source": [
    "from sklearn.tree import DecisionTreeClassifier\n",
    "from sklearn.metrics import accuracy_score \n",
    "from sklearn.neighbors import KNeighborsClassifier\n",
    "\n",
    "# Árvore de Decisão\n",
    "tree_model = DecisionTreeClassifier(random_state=42)\n",
    "tree_model.fit(X_train, y_train)\n",
    "tree_pred = tree_model.predict(X_test)\n",
    "\n",
    "print('Acurácia da Tree: ', accuracy_score(y_test, tree_pred))\n",
    "\n",
    "# K-Nearest Neighbors (KNN)\n",
    "knn_model = KNeighborsClassifier(n_neighbors=5)\n",
    "knn_model.fit(X_train, y_train)\n",
    "knn_pred = knn_model.predict(X_test)\n",
    "\n",
    "print('Acurácia no conjunto de teste: ', accuracy_score(y_test, knn_pred))\n"
   ]
  },
  {
   "cell_type": "markdown",
   "metadata": {},
   "source": [
    "### 4.3. Avalie o desempenho dos modelos utilizando as seguintes métricas:"
   ]
  },
  {
   "cell_type": "code",
   "execution_count": null,
   "metadata": {},
   "outputs": [],
   "source": [
    "from sklearn.metrics import confusion_matrix, f1_score\n",
    "\n",
    "print('Avaliação do modelo Árvore de Decisão:')\n",
    "print('Matriz de Confusão:\\n', confusion_matrix(y_test, tree_pred))\n",
    "print('Acurácia: ', accuracy_score(y_test, tree_pred))\n",
    "print('F1-Score:', f1_score(y_test, tree_pred))\n",
    "\n",
    "print('\\nAvaliação do modelo KNN:')\n",
    "print('Matriz de Confusão:\\n', confusion_matrix(y_test, knn_pred))\n",
    "print('Acurácia: ', accuracy_score(y_test, knn_pred))\n",
    "print('F1-Score:', f1_score(y_test, knn_pred))\n"
   ]
  },
  {
   "cell_type": "markdown",
   "metadata": {},
   "source": [
    "### 4.4. Compare os resultados dos modelos num gráfico ou tabela, identificando o melhor modelo."
   ]
  },
  {
   "cell_type": "code",
   "execution_count": null,
   "metadata": {},
   "outputs": [],
   "source": [
    "# DataFrame para as métricas dos modelos\n",
    "metrics = pd.DataFrame({\n",
    "    'Modelo': ['Árvore de Decisão', 'KNN'],\n",
    "    'Acurácia': [accuracy_score(y_test, tree_pred), accuracy_score(y_test, knn_pred)],\n",
    "    'F1-Score': [f1_score(y_test, tree_pred), f1_score(y_test, knn_pred)]\n",
    "})\n",
    "\n",
    "# Gráfico de comparação de Acurácia\n",
    "plt.figure(figsize=(6, 4))\n",
    "sns.barplot(x='Modelo', y='Acurácia', data=metrics)\n",
    "plt.title('Comparação da Acurácia')\n",
    "plt.show()\n",
    "\n",
    "# Gráfico de comparação de F1-Score\n",
    "plt.figure(figsize=(6, 4))\n",
    "sns.barplot(x='Modelo', y='F1-Score', data=metrics)\n",
    "plt.title('Comparação do F1-Score')\n",
    "plt.show()\n",
    "\n",
    "print(metrics)\n"
   ]
  },
  {
   "cell_type": "markdown",
   "metadata": {},
   "source": [
    "#### &emsp; O melhor modelo é o da Árvore de decisão, pois apresenta os valores mais aproximados de 1."
   ]
  },
  {
   "cell_type": "markdown",
   "metadata": {},
   "source": [
    "## 5. Conclusão"
   ]
  },
  {
   "cell_type": "markdown",
   "metadata": {},
   "source": [
    "### 5.1. Identifique os grupos de passageiros mais propensos a sobreviver com base na análise exploratória e na importância das variáveis dos modelos.\n",
    "#### &emsp;-   Explique o impacto de variáveis como Sex, Pclass, Age e IsAlone. "
   ]
  },
  {
   "cell_type": "markdown",
   "metadata": {},
   "source": [
    "&emsp;Com base na análise exploratória, de um modo geral, os grupos com maior probabilidade de sobrevivência são Mulheres (Female, ou seja, Sex=1), enquanto o grupo de Homens (Male, ou seja, Sex=0) é o que tem menor probabilidade de sobrevivência.\n",
    "\n",
    "&emsp;Relativamente às correlações, Sex tem uma forte relação positiva com Survived.<br>\n",
    "Como observado, a menor taxa de sobrevivência pertence ao grupo Male o que demonstra que, independentemente da correlação, vai influenciar diretamente todas as outras variáveis.\n",
    "\n",
    "&emsp;Pode-se observar, também, que o grupo da primeira classe (Pclass=1) teve a maior taxa de sobrevivência comparativmente às outras classes."
   ]
  },
  {
   "cell_type": "markdown",
   "metadata": {},
   "source": [
    "### 5.2. Justifique o melhor modelo preditivo com base nas métricas de desempenho."
   ]
  },
  {
   "cell_type": "markdown",
   "metadata": {},
   "source": [
    "A Árvore de Decisão apresenta uma acurácia e F1-Score superiores aos do KNN, logo, pode-se concluir que esse modelo ajusta-se melhor à presente base de dados.\n",
    "\n",
    "Ou seja, estas métricas refletem uma melhor capacidade do modelo em prever corretamente os casos de sobrevivência."
   ]
  }
 ],
 "metadata": {
  "kernelspec": {
   "display_name": ".venv",
   "language": "python",
   "name": "python3"
  },
  "language_info": {
   "codemirror_mode": {
    "name": "ipython",
    "version": 3
   },
   "file_extension": ".py",
   "mimetype": "text/x-python",
   "name": "python",
   "nbconvert_exporter": "python",
   "pygments_lexer": "ipython3",
   "version": "3.12.6"
  }
 },
 "nbformat": 4,
 "nbformat_minor": 2
}
